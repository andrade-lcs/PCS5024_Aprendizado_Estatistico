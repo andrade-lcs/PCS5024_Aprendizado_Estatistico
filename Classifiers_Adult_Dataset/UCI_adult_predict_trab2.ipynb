{
 "metadata": {
  "language_info": {
   "codemirror_mode": {
    "name": "ipython",
    "version": 3
   },
   "file_extension": ".py",
   "mimetype": "text/x-python",
   "name": "python",
   "nbconvert_exporter": "python",
   "pygments_lexer": "ipython3",
   "version": "3.8.5"
  },
  "orig_nbformat": 4,
  "kernelspec": {
   "name": "python3",
   "display_name": "Python 3.8.5 64-bit ('base': conda)"
  },
  "interpreter": {
   "hash": "b3ba2566441a7c06988d0923437866b63cedc61552a5af99d1f4fb67d367b25f"
  }
 },
 "nbformat": 4,
 "nbformat_minor": 2,
 "cells": [
  {
   "cell_type": "code",
   "execution_count": 1,
   "metadata": {},
   "outputs": [],
   "source": [
    "#Bibliotécas\n",
    "import pandas as pd\n",
    "import numpy as np\n",
    "from sklearn.preprocessing import LabelEncoder\n",
    "from sklearn.preprocessing import OneHotEncoder\n",
    "from sklearn.compose import ColumnTransformer\n",
    "from sklearn.preprocessing import StandardScaler\n",
    "from sklearn.model_selection import train_test_split\n",
    "from sklearn.metrics import accuracy_score\n",
    "from sklearn.metrics import confusion_matrix\n",
    "from sklearn.metrics import classification_report"
   ]
  },
  {
   "cell_type": "code",
   "execution_count": 2,
   "metadata": {},
   "outputs": [],
   "source": [
    "#DataFrame\n",
    "headers = ['age', 'workclass', 'fnlwgt', 'education', 'education-num', 'marital-status', 'occupation', 'relationship', 'race', 'sex', 'capital-gain', 'capital-loss', 'hours-per-week', 'native-country', 'salary']\n",
    "\n",
    "df = pd.read_csv('adult.data.csv', names=headers)"
   ]
  },
  {
   "cell_type": "code",
   "execution_count": 3,
   "metadata": {},
   "outputs": [],
   "source": [
    "#Tratamento de dados faltantes para o mais representatívo\n",
    "columns = df.columns\n",
    "for i in columns:\n",
    "    missing = df[i].isin([' ?']).sum()\n",
    "    df[i] = df[i].replace(' ?', np.NaN)\n",
    "df = df.apply(lambda x:x.fillna(x.value_counts().index[0]))"
   ]
  },
  {
   "cell_type": "code",
   "execution_count": 4,
   "metadata": {},
   "outputs": [],
   "source": [
    "#Divisão em Parâmetro e Classe\n",
    "X_df = df.iloc[:, 0:13].values\n",
    "y_df = df.iloc[:, 14].values"
   ]
  },
  {
   "cell_type": "code",
   "execution_count": 5,
   "metadata": {},
   "outputs": [],
   "source": [
    "#LabelEncoder\n",
    "def labelencoder(pd_serie):\n",
    "    labelencoder = LabelEncoder()\n",
    "    pd_serie = labelencoder.fit_transform(pd_serie)\n",
    "    return pd_serie\n",
    "\n",
    "X_df[:, 1] = labelencoder(X_df[:, 1])\n",
    "X_df[:, 3] = labelencoder(X_df[:, 3])\n",
    "X_df[:, 5] = labelencoder(X_df[:, 5])\n",
    "X_df[:, 6] = labelencoder(X_df[:, 6])\n",
    "X_df[:, 7] = labelencoder(X_df[:, 7])\n",
    "X_df[:, 8] = labelencoder(X_df[:, 8])\n",
    "X_df[:, 9] = labelencoder(X_df[:, 9])\n",
    "y_df = labelencoder(y_df)"
   ]
  },
  {
   "cell_type": "code",
   "execution_count": 6,
   "metadata": {},
   "outputs": [],
   "source": [
    "#One Hot Encoder\n",
    "onehotencorder = ColumnTransformer(transformers=[(\"OneHot\", OneHotEncoder(), [1,3,5,6,7,8,9])], remainder='passthrough')\n",
    "X_df = onehotencorder.fit_transform(X_df).toarray()"
   ]
  },
  {
   "cell_type": "code",
   "execution_count": 7,
   "metadata": {},
   "outputs": [],
   "source": [
    "#Standard Scaler\n",
    "scaler = StandardScaler()\n",
    "X_df = scaler.fit_transform(X_df)"
   ]
  },
  {
   "cell_type": "code",
   "execution_count": 8,
   "metadata": {},
   "outputs": [
    {
     "output_type": "stream",
     "name": "stdout",
     "text": [
      "(27676, 64) (4885, 64) (27676,) (4885,)\n"
     ]
    }
   ],
   "source": [
    "#Divisão df de treinamento e teste 15%\n",
    "X_df_train, X_df_test, y_df_train, y_df_test =  train_test_split(X_df, y_df, test_size=0.15, random_state=0)\n",
    "print(X_df_train.shape, X_df_test.shape, y_df_train.shape, y_df_test.shape)"
   ]
  },
  {
   "cell_type": "code",
   "execution_count": 9,
   "metadata": {},
   "outputs": [
    {
     "output_type": "execute_result",
     "data": {
      "text/plain": [
       "LogisticRegression(multi_class='ovr', random_state=1, solver='liblinear')"
      ]
     },
     "metadata": {},
     "execution_count": 9
    }
   ],
   "source": [
    "#treinamento Regressão Logistica\n",
    "from sklearn.linear_model import LogisticRegression\n",
    "lr = LogisticRegression(multi_class='ovr', solver='liblinear', random_state=1)\n",
    "lr.fit(X_df_train, y_df_train)"
   ]
  },
  {
   "cell_type": "code",
   "execution_count": 10,
   "metadata": {},
   "outputs": [],
   "source": [
    "predict_lr = lr.predict(X_df_test)"
   ]
  },
  {
   "cell_type": "code",
   "execution_count": 11,
   "metadata": {},
   "outputs": [
    {
     "output_type": "execute_result",
     "data": {
      "text/plain": [
       "0.8483111566018424"
      ]
     },
     "metadata": {},
     "execution_count": 11
    }
   ],
   "source": [
    "accuracy_score(y_df_test, predict_lr)"
   ]
  },
  {
   "cell_type": "code",
   "execution_count": 12,
   "metadata": {},
   "outputs": [
    {
     "output_type": "execute_result",
     "data": {
      "text/plain": [
       "array([[3433,  260],\n",
       "       [ 481,  711]], dtype=int64)"
      ]
     },
     "metadata": {},
     "execution_count": 12
    }
   ],
   "source": [
    "confusion_matrix(y_df_test, predict_lr)"
   ]
  },
  {
   "cell_type": "code",
   "execution_count": 13,
   "metadata": {},
   "outputs": [
    {
     "output_type": "stream",
     "name": "stdout",
     "text": [
      "              precision    recall  f1-score   support\n\n           0       0.88      0.93      0.90      3693\n           1       0.73      0.60      0.66      1192\n\n    accuracy                           0.85      4885\n   macro avg       0.80      0.76      0.78      4885\nweighted avg       0.84      0.85      0.84      4885\n\n"
     ]
    }
   ],
   "source": [
    "print(classification_report(y_df_test, predict_lr))"
   ]
  },
  {
   "cell_type": "code",
   "execution_count": 14,
   "metadata": {},
   "outputs": [],
   "source": [
    "lr_hold = lr.fit(X_df, y_df)"
   ]
  },
  {
   "cell_type": "code",
   "execution_count": 15,
   "metadata": {},
   "outputs": [
    {
     "output_type": "execute_result",
     "data": {
      "text/plain": [
       "SVC(C=1, kernel='linear', random_state=1)"
      ]
     },
     "metadata": {},
     "execution_count": 15
    }
   ],
   "source": [
    "#treinamento SVM\n",
    "from sklearn.svm import SVC\n",
    "svm = SVC(kernel='linear', random_state=1, C=1)\n",
    "svm.fit(X_df_train, y_df_train)"
   ]
  },
  {
   "cell_type": "code",
   "execution_count": 16,
   "metadata": {},
   "outputs": [],
   "source": [
    "predict_svm = svm.predict(X_df_test)"
   ]
  },
  {
   "cell_type": "code",
   "execution_count": 17,
   "metadata": {},
   "outputs": [
    {
     "output_type": "execute_result",
     "data": {
      "text/plain": [
       "0.8448311156601842"
      ]
     },
     "metadata": {},
     "execution_count": 17
    }
   ],
   "source": [
    "accuracy_score(y_df_test, predict_svm)"
   ]
  },
  {
   "cell_type": "code",
   "execution_count": 18,
   "metadata": {},
   "outputs": [
    {
     "output_type": "execute_result",
     "data": {
      "text/plain": [
       "array([[3453,  240],\n",
       "       [ 518,  674]], dtype=int64)"
      ]
     },
     "metadata": {},
     "execution_count": 18
    }
   ],
   "source": [
    "confusion_matrix(y_df_test, predict_svm)"
   ]
  },
  {
   "cell_type": "code",
   "execution_count": 19,
   "metadata": {},
   "outputs": [
    {
     "output_type": "stream",
     "name": "stdout",
     "text": [
      "              precision    recall  f1-score   support\n\n           0       0.87      0.94      0.90      3693\n           1       0.74      0.57      0.64      1192\n\n    accuracy                           0.84      4885\n   macro avg       0.80      0.75      0.77      4885\nweighted avg       0.84      0.84      0.84      4885\n\n"
     ]
    }
   ],
   "source": [
    "print(classification_report(y_df_test, predict_svm))"
   ]
  },
  {
   "cell_type": "code",
   "execution_count": 20,
   "metadata": {},
   "outputs": [],
   "source": [
    "svm_hold = svm.fit(X_df, y_df)"
   ]
  },
  {
   "cell_type": "code",
   "execution_count": 21,
   "metadata": {},
   "outputs": [
    {
     "output_type": "execute_result",
     "data": {
      "text/plain": [
       "GaussianNB()"
      ]
     },
     "metadata": {},
     "execution_count": 21
    }
   ],
   "source": [
    "#treinamento Naive Bayes\n",
    "from sklearn.naive_bayes import GaussianNB\n",
    "nb = GaussianNB(priors=None, var_smoothing=1e-09)\n",
    "nb.fit(X_df_train, y_df_train)"
   ]
  },
  {
   "cell_type": "code",
   "execution_count": 22,
   "metadata": {},
   "outputs": [],
   "source": [
    "predict_nb = nb.predict(X_df_test)"
   ]
  },
  {
   "cell_type": "code",
   "execution_count": 23,
   "metadata": {},
   "outputs": [
    {
     "output_type": "execute_result",
     "data": {
      "text/plain": [
       "0.5733879222108496"
      ]
     },
     "metadata": {},
     "execution_count": 23
    }
   ],
   "source": [
    "accuracy_score(y_df_test, predict_nb)"
   ]
  },
  {
   "cell_type": "code",
   "execution_count": 24,
   "metadata": {},
   "outputs": [
    {
     "output_type": "execute_result",
     "data": {
      "text/plain": [
       "array([[1668, 2025],\n",
       "       [  59, 1133]], dtype=int64)"
      ]
     },
     "metadata": {},
     "execution_count": 24
    }
   ],
   "source": [
    "confusion_matrix(y_df_test, predict_nb)"
   ]
  },
  {
   "cell_type": "code",
   "execution_count": 25,
   "metadata": {},
   "outputs": [
    {
     "output_type": "stream",
     "name": "stdout",
     "text": [
      "              precision    recall  f1-score   support\n\n           0       0.97      0.45      0.62      3693\n           1       0.36      0.95      0.52      1192\n\n    accuracy                           0.57      4885\n   macro avg       0.66      0.70      0.57      4885\nweighted avg       0.82      0.57      0.59      4885\n\n"
     ]
    }
   ],
   "source": [
    "print(classification_report(y_df_test, predict_nb))"
   ]
  },
  {
   "cell_type": "code",
   "execution_count": 26,
   "metadata": {},
   "outputs": [],
   "source": [
    "nb_hold = nb.fit(X_df, y_df)"
   ]
  },
  {
   "cell_type": "code",
   "execution_count": 27,
   "metadata": {},
   "outputs": [],
   "source": [
    "#DataFrame\n",
    "headers = ['age', 'workclass', 'fnlwgt', 'education', 'education-num', 'marital-status', 'occupation', 'relationship', 'race', 'sex', 'capital-gain', 'capital-loss', 'hours-per-week', 'native-country', 'salary']\n",
    "\n",
    "df = pd.read_csv('adult.test.csv', names=headers)\n",
    "\n",
    "#Tratamento de dados faltantes para o mais representatívo\n",
    "columns = df.columns\n",
    "for i in columns:\n",
    "    missing = df[i].isin([' ?']).sum()\n",
    "    df[i] = df[i].replace(' ?', np.NaN)\n",
    "df = df.apply(lambda x:x.fillna(x.value_counts().index[0]))\n",
    "\n",
    "#Divisão em Parâmetro e Classe\n",
    "X_df = df.iloc[:, 0:13].values\n",
    "y_df = df.iloc[:, 14].values\n",
    "\n",
    "#LabelEncoder\n",
    "def labelencoder(pd_serie):\n",
    "    labelencoder = LabelEncoder()\n",
    "    pd_serie = labelencoder.fit_transform(pd_serie)\n",
    "    return pd_serie\n",
    "\n",
    "X_df[:, 1] = labelencoder(X_df[:, 1])\n",
    "X_df[:, 3] = labelencoder(X_df[:, 3])\n",
    "X_df[:, 5] = labelencoder(X_df[:, 5])\n",
    "X_df[:, 6] = labelencoder(X_df[:, 6])\n",
    "X_df[:, 7] = labelencoder(X_df[:, 7])\n",
    "X_df[:, 8] = labelencoder(X_df[:, 8])\n",
    "X_df[:, 9] = labelencoder(X_df[:, 9])\n",
    "y_df = labelencoder(y_df)\n",
    "\n",
    "#One Hot Encoder\n",
    "onehotencorder = ColumnTransformer(transformers=[(\"OneHot\", OneHotEncoder(), [1,3,5,6,7,8,9])], remainder='passthrough')\n",
    "X_df = onehotencorder.fit_transform(X_df).toarray()\n",
    "\n",
    "#Standard Scaler\n",
    "scaler = StandardScaler()\n",
    "X_df = scaler.fit_transform(X_df)"
   ]
  },
  {
   "cell_type": "code",
   "execution_count": 31,
   "metadata": {},
   "outputs": [],
   "source": [
    "#previsão Regressão Logistica\n",
    "predict_lr_hold = lr_hold.predict(X_df)"
   ]
  },
  {
   "cell_type": "code",
   "execution_count": 32,
   "metadata": {},
   "outputs": [
    {
     "output_type": "execute_result",
     "data": {
      "text/plain": [
       "0.8503777409250046"
      ]
     },
     "metadata": {},
     "execution_count": 32
    }
   ],
   "source": [
    "accuracy_score(y_df, predict_lr_hold)"
   ]
  },
  {
   "cell_type": "code",
   "execution_count": 33,
   "metadata": {},
   "outputs": [
    {
     "output_type": "execute_result",
     "data": {
      "text/plain": [
       "array([[11572,   863],\n",
       "       [ 1573,  2273]], dtype=int64)"
      ]
     },
     "metadata": {},
     "execution_count": 33
    }
   ],
   "source": [
    "confusion_matrix(y_df, predict_lr_hold)"
   ]
  },
  {
   "cell_type": "code",
   "execution_count": 34,
   "metadata": {},
   "outputs": [
    {
     "output_type": "stream",
     "name": "stdout",
     "text": [
      "              precision    recall  f1-score   support\n\n           0       0.88      0.93      0.90     12435\n           1       0.72      0.59      0.65      3846\n\n    accuracy                           0.85     16281\n   macro avg       0.80      0.76      0.78     16281\nweighted avg       0.84      0.85      0.84     16281\n\n"
     ]
    }
   ],
   "source": [
    "print(classification_report(y_df, predict_lr_hold))"
   ]
  },
  {
   "cell_type": "code",
   "execution_count": 35,
   "metadata": {},
   "outputs": [],
   "source": [
    "#previsão SVM\n",
    "predict_svm_hold = svm_hold.predict(X_df)"
   ]
  },
  {
   "cell_type": "code",
   "execution_count": 36,
   "metadata": {},
   "outputs": [
    {
     "output_type": "execute_result",
     "data": {
      "text/plain": [
       "0.8497635280388183"
      ]
     },
     "metadata": {},
     "execution_count": 36
    }
   ],
   "source": [
    "accuracy_score(y_df, predict_svm_hold)"
   ]
  },
  {
   "cell_type": "code",
   "execution_count": 37,
   "metadata": {},
   "outputs": [
    {
     "output_type": "execute_result",
     "data": {
      "text/plain": [
       "array([[11654,   781],\n",
       "       [ 1665,  2181]], dtype=int64)"
      ]
     },
     "metadata": {},
     "execution_count": 37
    }
   ],
   "source": [
    "confusion_matrix(y_df, predict_svm_hold)"
   ]
  },
  {
   "cell_type": "code",
   "execution_count": 38,
   "metadata": {},
   "outputs": [
    {
     "output_type": "stream",
     "name": "stdout",
     "text": [
      "              precision    recall  f1-score   support\n\n           0       0.87      0.94      0.91     12435\n           1       0.74      0.57      0.64      3846\n\n    accuracy                           0.85     16281\n   macro avg       0.81      0.75      0.77     16281\nweighted avg       0.84      0.85      0.84     16281\n\n"
     ]
    }
   ],
   "source": [
    "print(classification_report(y_df, predict_svm_hold))"
   ]
  },
  {
   "cell_type": "code",
   "execution_count": 39,
   "metadata": {},
   "outputs": [],
   "source": [
    "#previsão NB\n",
    "predict_nb_hold = nb_hold.predict(X_df)"
   ]
  },
  {
   "cell_type": "code",
   "execution_count": 40,
   "metadata": {},
   "outputs": [
    {
     "output_type": "execute_result",
     "data": {
      "text/plain": [
       "0.7637737239727289"
      ]
     },
     "metadata": {},
     "execution_count": 40
    }
   ],
   "source": [
    "accuracy_score(y_df, predict_nb_hold)"
   ]
  },
  {
   "cell_type": "code",
   "execution_count": 41,
   "metadata": {},
   "outputs": [
    {
     "output_type": "execute_result",
     "data": {
      "text/plain": [
       "array([[12435,     0],\n",
       "       [ 3846,     0]], dtype=int64)"
      ]
     },
     "metadata": {},
     "execution_count": 41
    }
   ],
   "source": [
    "confusion_matrix(y_df, predict_nb_hold)"
   ]
  },
  {
   "cell_type": "code",
   "execution_count": 42,
   "metadata": {},
   "outputs": [
    {
     "output_type": "stream",
     "name": "stdout",
     "text": [
      "              precision    recall  f1-score   support\n",
      "\n",
      "           0       0.76      1.00      0.87     12435\n",
      "           1       0.00      0.00      0.00      3846\n",
      "\n",
      "    accuracy                           0.76     16281\n",
      "   macro avg       0.38      0.50      0.43     16281\n",
      "weighted avg       0.58      0.76      0.66     16281\n",
      "\n",
      "C:\\ProgramData\\Anaconda3\\lib\\site-packages\\sklearn\\metrics\\_classification.py:1221: UndefinedMetricWarning: Precision and F-score are ill-defined and being set to 0.0 in labels with no predicted samples. Use `zero_division` parameter to control this behavior.\n",
      "  _warn_prf(average, modifier, msg_start, len(result))\n"
     ]
    }
   ],
   "source": [
    "print(classification_report(y_df, predict_nb_hold))"
   ]
  },
  {
   "cell_type": "code",
   "execution_count": null,
   "metadata": {},
   "outputs": [],
   "source": []
  }
 ]
}