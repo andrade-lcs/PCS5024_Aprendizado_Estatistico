{
 "cells": [
  {
   "cell_type": "code",
   "execution_count": 36,
   "metadata": {},
   "outputs": [],
   "source": [
    "#Bibliotécas\n",
    "import pandas as pd\n",
    "import numpy as np\n",
    "from sklearn.preprocessing import LabelEncoder\n",
    "from sklearn.preprocessing import OneHotEncoder\n",
    "from sklearn.compose import ColumnTransformer\n",
    "from sklearn.preprocessing import StandardScaler\n",
    "from sklearn.model_selection import train_test_split\n",
    "from sklearn.metrics import accuracy_score\n",
    "from sklearn.metrics import confusion_matrix\n",
    "from sklearn.metrics import classification_report"
   ]
  },
  {
   "cell_type": "code",
   "execution_count": 70,
   "metadata": {},
   "outputs": [],
   "source": [
    "#DataFrame\n",
    "headers = ['age', 'workclass', 'fnlwgt', 'education', 'education-num', 'marital-status', 'occupation', 'relationship', 'race', 'sex', 'capital-gain', 'capital-loss', 'hours-per-week', 'native-country', 'salary']\n",
    "\n",
    "df = pd.read_csv('adult.data.csv', names=headers)"
   ]
  },
  {
   "cell_type": "code",
   "execution_count": 71,
   "metadata": {},
   "outputs": [],
   "source": [
    "#Tratamento de dados faltantes para o mais representatívo\n",
    "columns = df.columns\n",
    "for i in columns:\n",
    "    missing = df[i].isin([' ?']).sum()\n",
    "    df[i] = df[i].replace(' ?', np.NaN)\n",
    "df = df.apply(lambda x:x.fillna(x.value_counts().index[0]))"
   ]
  },
  {
   "cell_type": "code",
   "execution_count": 72,
   "metadata": {},
   "outputs": [],
   "source": [
    "#Divisão em Parâmetro e Classe\n",
    "X_df = df.iloc[:, 0:13].values\n",
    "y_df = df.iloc[:, 14].values"
   ]
  },
  {
   "cell_type": "code",
   "execution_count": 74,
   "metadata": {},
   "outputs": [],
   "source": [
    "#LabelEncoder\n",
    "def labelencoder(pd_serie):\n",
    "    labelencoder = LabelEncoder()\n",
    "    pd_serie = labelencoder.fit_transform(pd_serie)\n",
    "    return pd_serie\n",
    "\n",
    "X_df[:, 1] = labelencoder(X_df[:, 1])\n",
    "X_df[:, 3] = labelencoder(X_df[:, 3])\n",
    "X_df[:, 5] = labelencoder(X_df[:, 5])\n",
    "X_df[:, 6] = labelencoder(X_df[:, 6])\n",
    "X_df[:, 7] = labelencoder(X_df[:, 7])\n",
    "X_df[:, 8] = labelencoder(X_df[:, 8])\n",
    "X_df[:, 9] = labelencoder(X_df[:, 9])\n",
    "y_df = labelencoder(y_df)"
   ]
  },
  {
   "cell_type": "code",
   "execution_count": 41,
   "metadata": {},
   "outputs": [],
   "source": [
    "#One Hot Encoder\n",
    "onehotencorder = ColumnTransformer(transformers=[(\"OneHot\", OneHotEncoder(), [1,3,5,6,7,8,9])], remainder='passthrough')\n",
    "X_df = onehotencorder.fit_transform(X_df).toarray()"
   ]
  },
  {
   "cell_type": "code",
   "execution_count": 42,
   "metadata": {},
   "outputs": [],
   "source": [
    "#Standard Scaler\n",
    "scaler = StandardScaler()\n",
    "X_df = scaler.fit_transform(X_df)"
   ]
  },
  {
   "cell_type": "code",
   "execution_count": 43,
   "metadata": {},
   "outputs": [
    {
     "name": "stdout",
     "output_type": "stream",
     "text": [
      "(27676, 64) (4885, 64) (27676,) (4885,)\n"
     ]
    }
   ],
   "source": [
    "#Divisão df de treinamento e teste 15%\n",
    "X_df_train, X_df_test, y_df_train, y_df_test =  train_test_split(X_df, y_df, test_size=0.15, random_state=0)\n",
    "print(X_df_train.shape, X_df_test.shape, y_df_train.shape, y_df_test.shape)"
   ]
  },
  {
   "cell_type": "code",
   "execution_count": 44,
   "metadata": {},
   "outputs": [
    {
     "data": {
      "text/plain": [
       "LogisticRegression(multi_class='ovr', random_state=1, solver='liblinear')"
      ]
     },
     "execution_count": 44,
     "metadata": {},
     "output_type": "execute_result"
    }
   ],
   "source": [
    "#treinamento Regressão Logistica\n",
    "from sklearn.linear_model import LogisticRegression\n",
    "lr = LogisticRegression(multi_class='ovr', solver='liblinear', random_state=1)\n",
    "lr.fit(X_df_train, y_df_train)"
   ]
  },
  {
   "cell_type": "code",
   "execution_count": 15,
   "metadata": {},
   "outputs": [],
   "source": [
    "#Cross Validation\r\n",
    "from sklearn.model_selection import cross_val_score\r\n",
    "from sklearn.model_selection import KFold\r\n",
    "kfold = KFold(n_splits=10, shuffle=True)"
   ]
  },
  {
   "cell_type": "code",
   "execution_count": 10,
   "metadata": {},
   "outputs": [],
   "source": [
    "predict_lr = lr.predict(X_df_test)"
   ]
  },
  {
   "cell_type": "code",
   "execution_count": 11,
   "metadata": {},
   "outputs": [
    {
     "data": {
      "text/plain": [
       "0.8483111566018424"
      ]
     },
     "execution_count": 11,
     "metadata": {},
     "output_type": "execute_result"
    }
   ],
   "source": [
    "accuracy_score(y_df_test, predict_lr)"
   ]
  },
  {
   "cell_type": "code",
   "execution_count": 12,
   "metadata": {},
   "outputs": [
    {
     "data": {
      "text/plain": [
       "array([[3433,  260],\n",
       "       [ 481,  711]], dtype=int64)"
      ]
     },
     "execution_count": 12,
     "metadata": {},
     "output_type": "execute_result"
    }
   ],
   "source": [
    "confusion_matrix(y_df_test, predict_lr)"
   ]
  },
  {
   "cell_type": "code",
   "execution_count": 13,
   "metadata": {},
   "outputs": [
    {
     "name": "stdout",
     "output_type": "stream",
     "text": [
      "              precision    recall  f1-score   support\n",
      "\n",
      "           0       0.88      0.93      0.90      3693\n",
      "           1       0.73      0.60      0.66      1192\n",
      "\n",
      "    accuracy                           0.85      4885\n",
      "   macro avg       0.80      0.76      0.78      4885\n",
      "weighted avg       0.84      0.85      0.84      4885\n",
      "\n"
     ]
    }
   ],
   "source": [
    "print(classification_report(y_df_test, predict_lr))"
   ]
  },
  {
   "cell_type": "code",
   "execution_count": 14,
   "metadata": {},
   "outputs": [
    {
     "data": {
      "text/plain": [
       "array([0.84709856, 0.84889435, 0.84735872, 0.85288698, 0.85165848,\n",
       "       0.84121622, 0.85288698, 0.84797297, 0.85872236, 0.85257985])"
      ]
     },
     "execution_count": 14,
     "metadata": {},
     "output_type": "execute_result"
    }
   ],
   "source": [
    "score_lr = cross_val_score(lr, X_df, y_df, cv = kfold)\r\n",
    "score_lr"
   ]
  },
  {
   "cell_type": "code",
   "execution_count": 43,
   "metadata": {},
   "outputs": [
    {
     "data": {
      "text/plain": [
       "0.8501275461131156"
      ]
     },
     "execution_count": 43,
     "metadata": {},
     "output_type": "execute_result"
    }
   ],
   "source": [
    "score_lr.mean()"
   ]
  },
  {
   "cell_type": "code",
   "execution_count": 15,
   "metadata": {},
   "outputs": [],
   "source": [
    "lr_hold = lr.fit(X_df, y_df)"
   ]
  },
  {
   "cell_type": "code",
   "execution_count": 16,
   "metadata": {},
   "outputs": [
    {
     "data": {
      "text/plain": [
       "SVC(C=1, kernel='linear', random_state=1)"
      ]
     },
     "execution_count": 16,
     "metadata": {},
     "output_type": "execute_result"
    }
   ],
   "source": [
    "#treinamento SVM\n",
    "from sklearn.svm import SVC\n",
    "svm = SVC(kernel='linear', random_state=1, C=1)\n",
    "svm.fit(X_df_train, y_df_train)"
   ]
  },
  {
   "cell_type": "code",
   "execution_count": 17,
   "metadata": {},
   "outputs": [],
   "source": [
    "predict_svm = svm.predict(X_df_test)"
   ]
  },
  {
   "cell_type": "code",
   "execution_count": 18,
   "metadata": {},
   "outputs": [
    {
     "data": {
      "text/plain": [
       "0.8448311156601842"
      ]
     },
     "execution_count": 18,
     "metadata": {},
     "output_type": "execute_result"
    }
   ],
   "source": [
    "accuracy_score(y_df_test, predict_svm)"
   ]
  },
  {
   "cell_type": "code",
   "execution_count": 19,
   "metadata": {},
   "outputs": [
    {
     "data": {
      "text/plain": [
       "array([[3453,  240],\n",
       "       [ 518,  674]], dtype=int64)"
      ]
     },
     "execution_count": 19,
     "metadata": {},
     "output_type": "execute_result"
    }
   ],
   "source": [
    "confusion_matrix(y_df_test, predict_svm)"
   ]
  },
  {
   "cell_type": "code",
   "execution_count": 20,
   "metadata": {},
   "outputs": [
    {
     "name": "stdout",
     "output_type": "stream",
     "text": [
      "              precision    recall  f1-score   support\n",
      "\n",
      "           0       0.87      0.94      0.90      3693\n",
      "           1       0.74      0.57      0.64      1192\n",
      "\n",
      "    accuracy                           0.84      4885\n",
      "   macro avg       0.80      0.75      0.77      4885\n",
      "weighted avg       0.84      0.84      0.84      4885\n",
      "\n"
     ]
    }
   ],
   "source": [
    "print(classification_report(y_df_test, predict_svm))"
   ]
  },
  {
   "cell_type": "code",
   "execution_count": 21,
   "metadata": {},
   "outputs": [
    {
     "data": {
      "text/plain": [
       "array([0.84587043, 0.83599509, 0.84613022, 0.84244472, 0.86056511,\n",
       "       0.84213759, 0.8544226 , 0.85657248, 0.84520885, 0.8495086 ])"
      ]
     },
     "execution_count": 21,
     "metadata": {},
     "output_type": "execute_result"
    }
   ],
   "source": [
    "score_svm = cross_val_score(svm, X_df, y_df, cv = kfold)\n",
    "score_svm"
   ]
  },
  {
   "cell_type": "code",
   "execution_count": 44,
   "metadata": {},
   "outputs": [
    {
     "data": {
      "text/plain": [
       "0.8478855690898983"
      ]
     },
     "execution_count": 44,
     "metadata": {},
     "output_type": "execute_result"
    }
   ],
   "source": [
    "score_svm.mean()"
   ]
  },
  {
   "cell_type": "code",
   "execution_count": 22,
   "metadata": {},
   "outputs": [],
   "source": [
    "svm_hold = svm.fit(X_df, y_df)"
   ]
  },
  {
   "cell_type": "code",
   "execution_count": 45,
   "metadata": {},
   "outputs": [
    {
     "data": {
      "text/plain": [
       "GaussianNB()"
      ]
     },
     "execution_count": 45,
     "metadata": {},
     "output_type": "execute_result"
    }
   ],
   "source": [
    "#treinamento Naive Bayes\n",
    "from sklearn.naive_bayes import GaussianNB\n",
    "nb = GaussianNB(priors=None, var_smoothing=1e-09)\n",
    "nb.fit(X_df_train, y_df_train)"
   ]
  },
  {
   "cell_type": "code",
   "execution_count": 46,
   "metadata": {},
   "outputs": [],
   "source": [
    "predict_nb = nb.predict(X_df_test)"
   ]
  },
  {
   "cell_type": "code",
   "execution_count": 47,
   "metadata": {},
   "outputs": [
    {
     "data": {
      "text/plain": [
       "0.5733879222108496"
      ]
     },
     "execution_count": 47,
     "metadata": {},
     "output_type": "execute_result"
    }
   ],
   "source": [
    "accuracy_score(y_df_test, predict_nb)"
   ]
  },
  {
   "cell_type": "code",
   "execution_count": 48,
   "metadata": {},
   "outputs": [
    {
     "data": {
      "text/plain": [
       "array([[1668, 2025],\n",
       "       [  59, 1133]], dtype=int64)"
      ]
     },
     "execution_count": 48,
     "metadata": {},
     "output_type": "execute_result"
    }
   ],
   "source": [
    "confusion_matrix(y_df_test, predict_nb)"
   ]
  },
  {
   "cell_type": "code",
   "execution_count": 49,
   "metadata": {},
   "outputs": [
    {
     "name": "stdout",
     "output_type": "stream",
     "text": [
      "              precision    recall  f1-score   support\n",
      "\n",
      "           0       0.97      0.45      0.62      3693\n",
      "           1       0.36      0.95      0.52      1192\n",
      "\n",
      "    accuracy                           0.57      4885\n",
      "   macro avg       0.66      0.70      0.57      4885\n",
      "weighted avg       0.82      0.57      0.59      4885\n",
      "\n"
     ]
    }
   ],
   "source": [
    "print(classification_report(y_df_test, predict_nb))"
   ]
  },
  {
   "cell_type": "code",
   "execution_count": 50,
   "metadata": {},
   "outputs": [
    {
     "data": {
      "text/plain": [
       "array([0.57107768, 0.58630221, 0.56081081, 0.57463145, 0.56910319,\n",
       "       0.54054054, 0.57739558, 0.57463145, 0.57616708, 0.5752457 ])"
      ]
     },
     "execution_count": 50,
     "metadata": {},
     "output_type": "execute_result"
    }
   ],
   "source": [
    "score_nb = cross_val_score(nb, X_df, y_df, cv = kfold)\n",
    "score_nb"
   ]
  },
  {
   "cell_type": "code",
   "execution_count": 51,
   "metadata": {},
   "outputs": [
    {
     "data": {
      "text/plain": [
       "0.5705905688673573"
      ]
     },
     "execution_count": 51,
     "metadata": {},
     "output_type": "execute_result"
    }
   ],
   "source": [
    "score_nb.mean()"
   ]
  },
  {
   "cell_type": "code",
   "execution_count": 75,
   "metadata": {},
   "outputs": [],
   "source": [
    "nb_hold = nb.fit(X_df, y_df)"
   ]
  },
  {
   "cell_type": "code",
   "execution_count": 76,
   "metadata": {},
   "outputs": [
    {
     "data": {
      "text/plain": [
       "'#One Hot Encoder\\nonehotencorder = ColumnTransformer(transformers=[(\"OneHot\", OneHotEncoder(), [1,3,5,6,7,8,9])], remainder=\\'passthrough\\')\\nX_df_test = onehotencorder.fit_transform(X_df_test).toarray()\\n\\n#Standard Scaler\\nscaler = StandardScaler()\\nX_df_test = scaler.fit_transform(X_df_test)'"
      ]
     },
     "execution_count": 76,
     "metadata": {},
     "output_type": "execute_result"
    }
   ],
   "source": [
    "#DataFrame\r\n",
    "headers = ['age', 'workclass', 'fnlwgt', 'education', 'education-num', 'marital-status', 'occupation', 'relationship', 'race', 'sex', 'capital-gain', 'capital-loss', 'hours-per-week', 'native-country', 'salary']\r\n",
    "\r\n",
    "df_test = pd.read_csv('adult.test.csv', names=headers)\r\n",
    "\r\n",
    "#Tratamento de dados faltantes para o mais representatívo\r\n",
    "columns = df_test.columns\r\n",
    "for i in columns:\r\n",
    "    missing = df_test[i].isin([' ?']).sum()\r\n",
    "    df_test[i] = df_test[i].replace(' ?', np.NaN)\r\n",
    "df = df_test.apply(lambda x:x.fillna(x.value_counts().index[0]))\r\n",
    "\r\n",
    "#Divisão em Parâmetro e Classe\r\n",
    "X_df_test = df.iloc[:, 0:13].values\r\n",
    "y_df_test = df.iloc[:, 14].values\r\n",
    "\r\n",
    "#LabelEncoder\r\n",
    "def labelencoder(pd_serie):\r\n",
    "    labelencoder = LabelEncoder()\r\n",
    "    pd_serie = labelencoder.fit_transform(pd_serie)\r\n",
    "    return pd_serie\r\n",
    "\r\n",
    "X_df_test[:, 1] = labelencoder(X_df_test[:, 1])\r\n",
    "X_df_test[:, 3] = labelencoder(X_df_test[:, 3])\r\n",
    "X_df_test[:, 5] = labelencoder(X_df_test[:, 5])\r\n",
    "X_df_test[:, 6] = labelencoder(X_df_test[:, 6])\r\n",
    "X_df_test[:, 7] = labelencoder(X_df_test[:, 7])\r\n",
    "X_df_test[:, 8] = labelencoder(X_df_test[:, 8])\r\n",
    "X_df_test[:, 9] = labelencoder(X_df_test[:, 9])\r\n",
    "y_df_test = labelencoder(y_df_test)\r\n",
    "\r\n",
    "'''#One Hot Encoder\r\n",
    "onehotencorder = ColumnTransformer(transformers=[(\"OneHot\", OneHotEncoder(), [1,3,5,6,7,8,9])], remainder='passthrough')\r\n",
    "X_df_test = onehotencorder.fit_transform(X_df_test).toarray()\r\n",
    "\r\n",
    "#Standard Scaler\r\n",
    "scaler = StandardScaler()\r\n",
    "X_df_test = scaler.fit_transform(X_df_test)'''"
   ]
  },
  {
   "cell_type": "code",
   "execution_count": 31,
   "metadata": {},
   "outputs": [],
   "source": [
    "#previsão Regressão Logistica\n",
    "predict_lr_hold = lr_hold.predict(X_df)"
   ]
  },
  {
   "cell_type": "code",
   "execution_count": 32,
   "metadata": {},
   "outputs": [
    {
     "data": {
      "text/plain": [
       "0.8503777409250046"
      ]
     },
     "execution_count": 32,
     "metadata": {},
     "output_type": "execute_result"
    }
   ],
   "source": [
    "accuracy_score(y_df, predict_lr_hold)"
   ]
  },
  {
   "cell_type": "code",
   "execution_count": 33,
   "metadata": {},
   "outputs": [
    {
     "data": {
      "text/plain": [
       "array([[11572,   863],\n",
       "       [ 1573,  2273]], dtype=int64)"
      ]
     },
     "execution_count": 33,
     "metadata": {},
     "output_type": "execute_result"
    }
   ],
   "source": [
    "confusion_matrix(y_df, predict_lr_hold)"
   ]
  },
  {
   "cell_type": "code",
   "execution_count": 34,
   "metadata": {},
   "outputs": [
    {
     "name": "stdout",
     "output_type": "stream",
     "text": [
      "              precision    recall  f1-score   support\n",
      "\n",
      "           0       0.88      0.93      0.90     12435\n",
      "           1       0.72      0.59      0.65      3846\n",
      "\n",
      "    accuracy                           0.85     16281\n",
      "   macro avg       0.80      0.76      0.78     16281\n",
      "weighted avg       0.84      0.85      0.84     16281\n",
      "\n"
     ]
    }
   ],
   "source": [
    "print(classification_report(y_df, predict_lr_hold))"
   ]
  },
  {
   "cell_type": "code",
   "execution_count": 35,
   "metadata": {},
   "outputs": [],
   "source": [
    "#previsão SVM\n",
    "predict_svm_hold = svm_hold.predict(X_df)"
   ]
  },
  {
   "cell_type": "code",
   "execution_count": 36,
   "metadata": {},
   "outputs": [
    {
     "data": {
      "text/plain": [
       "0.8497635280388183"
      ]
     },
     "execution_count": 36,
     "metadata": {},
     "output_type": "execute_result"
    }
   ],
   "source": [
    "accuracy_score(y_df, predict_svm_hold)"
   ]
  },
  {
   "cell_type": "code",
   "execution_count": 37,
   "metadata": {},
   "outputs": [
    {
     "data": {
      "text/plain": [
       "array([[11654,   781],\n",
       "       [ 1665,  2181]], dtype=int64)"
      ]
     },
     "execution_count": 37,
     "metadata": {},
     "output_type": "execute_result"
    }
   ],
   "source": [
    "confusion_matrix(y_df, predict_svm_hold)"
   ]
  },
  {
   "cell_type": "code",
   "execution_count": 38,
   "metadata": {},
   "outputs": [
    {
     "name": "stdout",
     "output_type": "stream",
     "text": [
      "              precision    recall  f1-score   support\n",
      "\n",
      "           0       0.87      0.94      0.91     12435\n",
      "           1       0.74      0.57      0.64      3846\n",
      "\n",
      "    accuracy                           0.85     16281\n",
      "   macro avg       0.81      0.75      0.77     16281\n",
      "weighted avg       0.84      0.85      0.84     16281\n",
      "\n"
     ]
    }
   ],
   "source": [
    "print(classification_report(y_df, predict_svm_hold))"
   ]
  },
  {
   "cell_type": "code",
   "execution_count": 77,
   "metadata": {},
   "outputs": [],
   "source": [
    "#previsão NB\r\n",
    "predict_nb_hold = nb_hold.predict(X_df_test)"
   ]
  },
  {
   "cell_type": "code",
   "execution_count": 78,
   "metadata": {},
   "outputs": [
    {
     "data": {
      "text/plain": [
       "0.7952214237454702"
      ]
     },
     "execution_count": 78,
     "metadata": {},
     "output_type": "execute_result"
    }
   ],
   "source": [
    "accuracy_score(y_df_test, predict_nb_hold)"
   ]
  },
  {
   "cell_type": "code",
   "execution_count": 79,
   "metadata": {},
   "outputs": [
    {
     "data": {
      "text/plain": [
       "array([[11773,   662],\n",
       "       [ 2672,  1174]], dtype=int64)"
      ]
     },
     "execution_count": 79,
     "metadata": {},
     "output_type": "execute_result"
    }
   ],
   "source": [
    "confusion_matrix(y_df_test, predict_nb_hold)"
   ]
  },
  {
   "cell_type": "code",
   "execution_count": 80,
   "metadata": {},
   "outputs": [
    {
     "name": "stdout",
     "output_type": "stream",
     "text": [
      "              precision    recall  f1-score   support\n",
      "\n",
      "           0       0.82      0.95      0.88     12435\n",
      "           1       0.64      0.31      0.41      3846\n",
      "\n",
      "    accuracy                           0.80     16281\n",
      "   macro avg       0.73      0.63      0.64     16281\n",
      "weighted avg       0.77      0.80      0.77     16281\n",
      "\n"
     ]
    }
   ],
   "source": [
    "print(classification_report(y_df_test, predict_nb_hold))"
   ]
  },
  {
   "cell_type": "code",
   "execution_count": 81,
   "metadata": {},
   "outputs": [
    {
     "data": {
      "text/html": [
       "<div>\n",
       "<style scoped>\n",
       "    .dataframe tbody tr th:only-of-type {\n",
       "        vertical-align: middle;\n",
       "    }\n",
       "\n",
       "    .dataframe tbody tr th {\n",
       "        vertical-align: top;\n",
       "    }\n",
       "\n",
       "    .dataframe thead th {\n",
       "        text-align: right;\n",
       "    }\n",
       "</style>\n",
       "<table border=\"1\" class=\"dataframe\">\n",
       "  <thead>\n",
       "    <tr style=\"text-align: right;\">\n",
       "      <th></th>\n",
       "      <th>0</th>\n",
       "    </tr>\n",
       "  </thead>\n",
       "  <tbody>\n",
       "    <tr>\n",
       "      <th>count</th>\n",
       "      <td>16281.000000</td>\n",
       "    </tr>\n",
       "    <tr>\n",
       "      <th>mean</th>\n",
       "      <td>0.112769</td>\n",
       "    </tr>\n",
       "    <tr>\n",
       "      <th>std</th>\n",
       "      <td>0.316321</td>\n",
       "    </tr>\n",
       "    <tr>\n",
       "      <th>min</th>\n",
       "      <td>0.000000</td>\n",
       "    </tr>\n",
       "    <tr>\n",
       "      <th>25%</th>\n",
       "      <td>0.000000</td>\n",
       "    </tr>\n",
       "    <tr>\n",
       "      <th>50%</th>\n",
       "      <td>0.000000</td>\n",
       "    </tr>\n",
       "    <tr>\n",
       "      <th>75%</th>\n",
       "      <td>0.000000</td>\n",
       "    </tr>\n",
       "    <tr>\n",
       "      <th>max</th>\n",
       "      <td>1.000000</td>\n",
       "    </tr>\n",
       "  </tbody>\n",
       "</table>\n",
       "</div>"
      ],
      "text/plain": [
       "                  0\n",
       "count  16281.000000\n",
       "mean       0.112769\n",
       "std        0.316321\n",
       "min        0.000000\n",
       "25%        0.000000\n",
       "50%        0.000000\n",
       "75%        0.000000\n",
       "max        1.000000"
      ]
     },
     "execution_count": 81,
     "metadata": {},
     "output_type": "execute_result"
    }
   ],
   "source": [
    "predict = pd.DataFrame(predict_nb_hold)\r\n",
    "predict.describe()"
   ]
  },
  {
   "cell_type": "code",
   "execution_count": null,
   "metadata": {},
   "outputs": [],
   "source": []
  },
  {
   "cell_type": "code",
   "execution_count": null,
   "metadata": {},
   "outputs": [],
   "source": []
  }
 ],
 "metadata": {
  "interpreter": {
   "hash": "b3ba2566441a7c06988d0923437866b63cedc61552a5af99d1f4fb67d367b25f"
  },
  "kernelspec": {
   "display_name": "Python 3.8.5 64-bit ('base': conda)",
   "name": "python3"
  },
  "language_info": {
   "codemirror_mode": {
    "name": "ipython",
    "version": 3
   },
   "file_extension": ".py",
   "mimetype": "text/x-python",
   "name": "python",
   "nbconvert_exporter": "python",
   "pygments_lexer": "ipython3",
   "version": "3.8.5"
  },
  "orig_nbformat": 4
 },
 "nbformat": 4,
 "nbformat_minor": 2
}