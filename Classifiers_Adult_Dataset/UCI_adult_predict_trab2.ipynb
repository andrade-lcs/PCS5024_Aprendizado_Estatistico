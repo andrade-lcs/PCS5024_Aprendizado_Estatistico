{
 "metadata": {
  "language_info": {
   "codemirror_mode": {
    "name": "ipython",
    "version": 3
   },
   "file_extension": ".py",
   "mimetype": "text/x-python",
   "name": "python",
   "nbconvert_exporter": "python",
   "pygments_lexer": "ipython3",
   "version": "3.8.5"
  },
  "orig_nbformat": 4,
  "kernelspec": {
   "name": "python3",
   "display_name": "Python 3.8.5 64-bit ('base': conda)"
  },
  "interpreter": {
   "hash": "b3ba2566441a7c06988d0923437866b63cedc61552a5af99d1f4fb67d367b25f"
  }
 },
 "nbformat": 4,
 "nbformat_minor": 2,
 "cells": [
  {
   "cell_type": "code",
   "execution_count": 1,
   "metadata": {},
   "outputs": [],
   "source": [
    "#Bibliotécas\n",
    "import pandas as pd\n",
    "import numpy as np\n",
    "from sklearn.preprocessing import LabelEncoder\n",
    "from sklearn.preprocessing import OneHotEncoder\n",
    "from sklearn.compose import ColumnTransformer\n",
    "from sklearn.preprocessing import StandardScaler\n",
    "from sklearn.model_selection import train_test_split\n",
    "from sklearn.metrics import accuracy_score\n",
    "from sklearn.metrics import confusion_matrix\n",
    "from sklearn.metrics import classification_report"
   ]
  },
  {
   "cell_type": "code",
   "execution_count": 2,
   "metadata": {},
   "outputs": [],
   "source": [
    "#DataFrame\n",
    "headers = ['age', 'workclass', 'fnlwgt', 'education', 'education-num', 'marital-status', 'occupation', 'relationship', 'race', 'sex', 'capital-gain', 'capital-loss', 'hours-per-week', 'native-country', 'salary']\n",
    "\n",
    "df = pd.read_csv('adult.data.csv', names=headers)"
   ]
  },
  {
   "cell_type": "code",
   "execution_count": 3,
   "metadata": {},
   "outputs": [],
   "source": [
    "#Tratamento de dados faltantes para o mais representatívo\n",
    "columns = df.columns\n",
    "for i in columns:\n",
    "    missing = df[i].isin([' ?']).sum()\n",
    "    df[i] = df[i].replace(' ?', np.NaN)\n",
    "df = df.apply(lambda x:x.fillna(x.value_counts().index[0]))"
   ]
  },
  {
   "cell_type": "code",
   "execution_count": 4,
   "metadata": {},
   "outputs": [],
   "source": [
    "#Divisão em Parâmetro e Classe\n",
    "X_df = df.iloc[:, 0:13].values\n",
    "y_df = df.iloc[:, 14].values"
   ]
  },
  {
   "cell_type": "code",
   "execution_count": 5,
   "metadata": {},
   "outputs": [],
   "source": [
    "#LabelEncoder\n",
    "def labelencoder(pd_serie):\n",
    "    labelencoder = LabelEncoder()\n",
    "    pd_serie = labelencoder.fit_transform(pd_serie)\n",
    "    return pd_serie\n",
    "\n",
    "X_df[:, 1] = labelencoder(X_df[:, 1])\n",
    "X_df[:, 3] = labelencoder(X_df[:, 3])\n",
    "X_df[:, 5] = labelencoder(X_df[:, 5])\n",
    "X_df[:, 6] = labelencoder(X_df[:, 6])\n",
    "X_df[:, 7] = labelencoder(X_df[:, 7])\n",
    "X_df[:, 8] = labelencoder(X_df[:, 8])\n",
    "X_df[:, 9] = labelencoder(X_df[:, 9])\n",
    "y_df = labelencoder(y_df)"
   ]
  },
  {
   "cell_type": "code",
   "execution_count": 6,
   "metadata": {},
   "outputs": [],
   "source": [
    "#One Hot Encoder\n",
    "onehotencorder = ColumnTransformer(transformers=[(\"OneHot\", OneHotEncoder(), [1,3,5,6,7,8,9])], remainder='passthrough')\n",
    "X_df = onehotencorder.fit_transform(X_df).toarray()"
   ]
  },
  {
   "cell_type": "code",
   "execution_count": 7,
   "metadata": {},
   "outputs": [],
   "source": [
    "#Standard Scaler\n",
    "scaler = StandardScaler()\n",
    "X_df = scaler.fit_transform(X_df)"
   ]
  },
  {
   "cell_type": "code",
   "execution_count": 8,
   "metadata": {},
   "outputs": [
    {
     "output_type": "stream",
     "name": "stdout",
     "text": [
      "(27676, 64) (4885, 64) (27676,) (4885,)\n"
     ]
    }
   ],
   "source": [
    "#Divisão df de treinamento e teste 15%\n",
    "X_df_train, X_df_test, y_df_train, y_df_test =  train_test_split(X_df, y_df, test_size=0.15, random_state=0)\n",
    "print(X_df_train.shape, X_df_test.shape, y_df_train.shape, y_df_test.shape)"
   ]
  },
  {
   "cell_type": "code",
   "execution_count": 9,
   "metadata": {},
   "outputs": [
    {
     "output_type": "execute_result",
     "data": {
      "text/plain": [
       "LogisticRegression(multi_class='ovr', random_state=1, solver='liblinear')"
      ]
     },
     "metadata": {},
     "execution_count": 9
    }
   ],
   "source": [
    "#treinamento Regressão Logistica\n",
    "from sklearn.linear_model import LogisticRegression\n",
    "classificador = LogisticRegression(multi_class='ovr', solver='liblinear', random_state=1)\n",
    "classificador.fit(X_df_train, y_df_train)"
   ]
  },
  {
   "cell_type": "code",
   "execution_count": 10,
   "metadata": {},
   "outputs": [],
   "source": [
    "predict_lr = classificador.predict(X_df_test)"
   ]
  },
  {
   "cell_type": "code",
   "execution_count": 11,
   "metadata": {},
   "outputs": [
    {
     "output_type": "execute_result",
     "data": {
      "text/plain": [
       "0.8483111566018424"
      ]
     },
     "metadata": {},
     "execution_count": 11
    }
   ],
   "source": [
    "accuracy_score(y_df_test, predict_lr)"
   ]
  },
  {
   "cell_type": "code",
   "execution_count": 12,
   "metadata": {},
   "outputs": [
    {
     "output_type": "execute_result",
     "data": {
      "text/plain": [
       "array([[3433,  260],\n",
       "       [ 481,  711]], dtype=int64)"
      ]
     },
     "metadata": {},
     "execution_count": 12
    }
   ],
   "source": [
    "confusion_matrix(y_df_test, predict_lr)"
   ]
  },
  {
   "cell_type": "code",
   "execution_count": 13,
   "metadata": {},
   "outputs": [
    {
     "output_type": "stream",
     "name": "stdout",
     "text": [
      "              precision    recall  f1-score   support\n\n           0       0.88      0.93      0.90      3693\n           1       0.73      0.60      0.66      1192\n\n    accuracy                           0.85      4885\n   macro avg       0.80      0.76      0.78      4885\nweighted avg       0.84      0.85      0.84      4885\n\n"
     ]
    }
   ],
   "source": [
    "print(classification_report(y_df_test, predict_lr))"
   ]
  },
  {
   "cell_type": "code",
   "execution_count": 15,
   "metadata": {},
   "outputs": [
    {
     "output_type": "error",
     "ename": "NameError",
     "evalue": "name 'knn' is not defined",
     "traceback": [
      "\u001b[1;31m---------------------------------------------------------------------------\u001b[0m",
      "\u001b[1;31mNameError\u001b[0m                                 Traceback (most recent call last)",
      "\u001b[1;32m<ipython-input-15-93244ca9e3be>\u001b[0m in \u001b[0;36m<module>\u001b[1;34m\u001b[0m\n\u001b[1;32m----> 1\u001b[1;33m \u001b[0mlr_hold\u001b[0m \u001b[1;33m=\u001b[0m \u001b[0mknn\u001b[0m\u001b[1;33m.\u001b[0m\u001b[0mfit\u001b[0m\u001b[1;33m(\u001b[0m\u001b[0mX_df\u001b[0m\u001b[1;33m,\u001b[0m \u001b[0my_df\u001b[0m\u001b[1;33m)\u001b[0m\u001b[1;33m\u001b[0m\u001b[1;33m\u001b[0m\u001b[0m\n\u001b[0m",
      "\u001b[1;31mNameError\u001b[0m: name 'knn' is not defined"
     ]
    }
   ],
   "source": [
    "lr_hold = knn.fit(X_df, y_df)"
   ]
  },
  {
   "cell_type": "code",
   "execution_count": null,
   "metadata": {},
   "outputs": [],
   "source": []
  },
  {
   "cell_type": "code",
   "execution_count": null,
   "metadata": {},
   "outputs": [],
   "source": []
  },
  {
   "cell_type": "code",
   "execution_count": null,
   "metadata": {},
   "outputs": [],
   "source": []
  },
  {
   "cell_type": "code",
   "execution_count": null,
   "metadata": {},
   "outputs": [],
   "source": []
  },
  {
   "cell_type": "code",
   "execution_count": null,
   "metadata": {},
   "outputs": [],
   "source": []
  },
  {
   "cell_type": "code",
   "execution_count": null,
   "metadata": {},
   "outputs": [],
   "source": []
  },
  {
   "cell_type": "code",
   "execution_count": null,
   "metadata": {},
   "outputs": [],
   "source": []
  },
  {
   "cell_type": "code",
   "execution_count": null,
   "metadata": {},
   "outputs": [],
   "source": []
  },
  {
   "cell_type": "code",
   "execution_count": null,
   "metadata": {},
   "outputs": [],
   "source": []
  },
  {
   "cell_type": "code",
   "execution_count": null,
   "metadata": {},
   "outputs": [],
   "source": []
  },
  {
   "cell_type": "code",
   "execution_count": 14,
   "metadata": {},
   "outputs": [],
   "source": [
    "#DataFrame\n",
    "headers = ['age', 'workclass', 'fnlwgt', 'education', 'education-num', 'marital-status', 'occupation', 'relationship', 'race', 'sex', 'capital-gain', 'capital-loss', 'hours-per-week', 'native-country', 'salary']\n",
    "\n",
    "df = pd.read_csv('adult.test.csv', names=headers)\n",
    "\n",
    "#Tratamento de dados faltantes para o mais representatívo\n",
    "columns = df.columns\n",
    "for i in columns:\n",
    "    missing = df[i].isin([' ?']).sum()\n",
    "    df[i] = df[i].replace(' ?', np.NaN)\n",
    "df = df.apply(lambda x:x.fillna(x.value_counts().index[0]))\n",
    "\n",
    "#Divisão em Parâmetro e Classe\n",
    "X_df = df.iloc[:, 0:13].values\n",
    "y_df = df.iloc[:, 14].values\n",
    "\n",
    "#LabelEncoder\n",
    "def labelencoder(pd_serie):\n",
    "    labelencoder = LabelEncoder()\n",
    "    pd_serie = labelencoder.fit_transform(pd_serie)\n",
    "    return pd_serie\n",
    "\n",
    "X_df[:, 1] = labelencoder(X_df[:, 1])\n",
    "X_df[:, 3] = labelencoder(X_df[:, 3])\n",
    "X_df[:, 5] = labelencoder(X_df[:, 5])\n",
    "X_df[:, 6] = labelencoder(X_df[:, 6])\n",
    "X_df[:, 7] = labelencoder(X_df[:, 7])\n",
    "X_df[:, 8] = labelencoder(X_df[:, 8])\n",
    "X_df[:, 9] = labelencoder(X_df[:, 9])\n",
    "y_df = labelencoder(y_df)\n",
    "\n",
    "#One Hot Encoder\n",
    "onehotencorder = ColumnTransformer(transformers=[(\"OneHot\", OneHotEncoder(), [1,3,5,6,7,8,9])], remainder='passthrough')\n",
    "X_df = onehotencorder.fit_transform(X_df).toarray()\n",
    "\n",
    "#Standard Scaler\n",
    "scaler = StandardScaler()\n",
    "X_df = scaler.fit_transform(X_df)"
   ]
  },
  {
   "cell_type": "code",
   "execution_count": null,
   "metadata": {},
   "outputs": [],
   "source": [
    "predict_rl_hold = rl_hold.predict(X_df)"
   ]
  },
  {
   "cell_type": "code",
   "execution_count": null,
   "metadata": {},
   "outputs": [],
   "source": [
    "accuracy_score(y_df, predict_rl_hold)"
   ]
  },
  {
   "cell_type": "code",
   "execution_count": null,
   "metadata": {},
   "outputs": [],
   "source": [
    "confusion_matrix(y_df, predict_rl_hold)"
   ]
  },
  {
   "cell_type": "code",
   "execution_count": null,
   "metadata": {},
   "outputs": [],
   "source": [
    "confusion_matrix(y_df, predict_rl_hold)"
   ]
  }
 ]
}